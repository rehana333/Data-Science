{
  "nbformat": 4,
  "nbformat_minor": 0,
  "metadata": {
    "colab": {
      "provenance": []
    },
    "kernelspec": {
      "name": "python3",
      "display_name": "Python 3"
    },
    "language_info": {
      "name": "python"
    }
  },
  "cells": [
    {
      "cell_type": "markdown",
      "source": [
        "NUMPY | Case Study\n",
        "\n",
        "\n",
        "In the ever-evolving world of engineering, data analysis, and scientific computing play a pivotal role in driving innovation and problem-solving. As engineering students, we are constantly seeking tools that enable us to explore data, experiment with code, and gain valuable insights from complex datasets. Among the many tools available, Jupyter Notebook and NumPy stand out as indispensable companions in our pursuit of excellence.\n",
        "\n",
        "Jupyter Notebook, a web-based interactive computing environment, offers a unique platform that seamlessly combines live code, visualizations, and narrative text. It provides an intuitive and flexible workspace for engineers, data scientists, and researchers to prototype, test hypotheses, and communicate their findings effectively.\n",
        "\n",
        "In tandem with Jupyter Notebook, NumPy, a popular library for scientific computing in Python, empowers us to work with arrays and matrices while providing a wide range of mathematical functions. With its robust capabilities, NumPy simplifies intricate numerical computations, making it an invaluable asset for tackling engineering challenges.\n",
        "\n",
        "In this case study, we embark on a journey to explore the fusion of Jupyter Notebook and NumPy. We will walk through the process of setting up a Jupyter Notebook environment with NumPy integration, allowing us to harness the power of interactive computing and scientific computation. As we delve deeper, we will witness the versatility of NumPy in handling data, performing mathematical operations, and embracing the principles of scientific computing.\n",
        "\n",
        "By delving into the examples and functionalities provided, we aim to equip ourselves with the essential skills to analyze data, build mathematical models, and manipulate arrays effectively. Our exploration of Jupyter Notebook with NumPy will foster a deeper understanding of the tools that fuel modern engineering practices and provide us with a strong foundation for future endeavors.\n",
        "\n",
        "Let us embark on this journey of discovery, where we harness the potential of Jupyter Notebook and NumPy to unlock the doors to data-driven engineering excellence and push the boundaries of innovation."
      ],
      "metadata": {
        "id": "22nzfVP9D2kZ"
      }
    },
    {
      "cell_type": "markdown",
      "source": [
        "Creating arrays using numpy\n"
      ],
      "metadata": {
        "id": "Y10ZkYVBISqu"
      }
    },
    {
      "cell_type": "code",
      "execution_count": null,
      "metadata": {
        "colab": {
          "base_uri": "https://localhost:8080/"
        },
        "id": "pvvrpsuL_EfF",
        "outputId": "5f2e3681-7b63-4a86-b5cd-e07d8da92e0c"
      },
      "outputs": [
        {
          "output_type": "stream",
          "name": "stdout",
          "text": [
            "[1 2 3 4 5]\n"
          ]
        }
      ],
      "source": [
        "import numpy as np\n",
        "a=np.array([1,2,3,4,5])\n",
        "print(a)"
      ]
    },
    {
      "cell_type": "code",
      "source": [
        "b=np.array([[1,2,3],[4,5,6]])\n",
        "print(b)"
      ],
      "metadata": {
        "colab": {
          "base_uri": "https://localhost:8080/"
        },
        "id": "45XVsnTnAI8a",
        "outputId": "1f9faf4d-d16f-4eca-d340-c89cac9a5a23"
      },
      "execution_count": null,
      "outputs": [
        {
          "output_type": "stream",
          "name": "stdout",
          "text": [
            "[[1 2 3]\n",
            " [4 5 6]]\n"
          ]
        }
      ]
    },
    {
      "cell_type": "code",
      "source": [
        "c=np.zeros((3,4))\n",
        "print(c)\n",
        "d=np.zeros((2,2))\n",
        "print(d)"
      ],
      "metadata": {
        "colab": {
          "base_uri": "https://localhost:8080/"
        },
        "id": "d3g3PDQvA-3r",
        "outputId": "86a9320b-c97d-4682-c311-18854400057c"
      },
      "execution_count": null,
      "outputs": [
        {
          "output_type": "stream",
          "name": "stdout",
          "text": [
            "[[0. 0. 0. 0.]\n",
            " [0. 0. 0. 0.]\n",
            " [0. 0. 0. 0.]]\n",
            "[[0. 0.]\n",
            " [0. 0.]]\n"
          ]
        }
      ]
    },
    {
      "cell_type": "code",
      "source": [
        "# add two arrays\n",
        "\n",
        "a=np. array([1, 2, 3])\n",
        "\n",
        "b=np. array([4, 5, 6])\n",
        "\n",
        "c = a + b\n",
        "\n",
        "print(c)\n",
        "\n",
        "# multiply two arrays\n",
        "\n",
        "d=np. array([[1, 2], [3, 4]])\n",
        "e=np. array([[5, 6], [7, 8]])\n",
        "f = d*e\n",
        "\n",
        "print(f)\n",
        "\n",
        "# perform matrix multiplication\n",
        "g= np.array([[1, 2], [3, 4]])\n",
        "h = np.array([[5, 6], [7, 8]])\n",
        "\n",
        "i = np.dot (g, h)\n",
        "\n",
        "print(i)"
      ],
      "metadata": {
        "colab": {
          "base_uri": "https://localhost:8080/"
        },
        "id": "SJnrLApNB0XM",
        "outputId": "d861ebda-ab08-4753-ada3-9a8dc70abc9d"
      },
      "execution_count": null,
      "outputs": [
        {
          "output_type": "stream",
          "name": "stdout",
          "text": [
            "[5 7 9]\n",
            "[[ 5 12]\n",
            " [21 32]]\n",
            "[[19 22]\n",
            " [43 50]]\n"
          ]
        }
      ]
    },
    {
      "cell_type": "markdown",
      "source": [
        "In conclusion, this case study has provided a comprehensive overview of setting up a Jupyter Notebook with NumPy and demonstrated how to utilize the library for scientific computing in Python. By following the steps to install Anaconda, launch the Jupyter Notebook, and import NumPy, we have successfully created and manipulated arrays, performed mathematical operations, and explored various functionalities offered by NumPy.\n",
        "\n",
        "The Jupyter Notebook environment proved to be an invaluable tool for interactive computing, enabling us to experiment with code, visualize data, and document our findings seamlessly. Its versatility and user-friendly interface make it an excellent choice for data scientists, machine learning engineers, and researchers to prototype and analyze code efficiently.\n",
        "\n",
        "Through the examples presented in this case study, we have seen how NumPy simplifies complex mathematical computations and facilitates working with multi-dimensional arrays. Its support for array operations and powerful mathematical functions opens up numerous possibilities for data analysis, scientific calculations, and machine learning applications.\n",
        "\n",
        "Overall, this case study has strengthened our understanding of the fundamental concepts of NumPy and the potential it offers in solving real-world engineering problems. The hands-on experience gained from creating arrays, performing operations, and interpreting the results has enriched our knowledge of scientific computing in Python.\n",
        "\n",
        "As we move forward in our engineering journey, the combination of Jupyter Notebook and NumPy will undoubtedly be valuable tools in our pursuit of innovative solutions and data-driven insights. Continuously exploring and experimenting with these tools will further enhance our proficiency in scientific computing, empowering us to tackle complex challenges in the engineering domain.\n",
        "\n",
        "In conclusion, Jupyter Notebook with NumPy stands as an indispensable duo, empowering engineers like us to analyze data, model complex systems, and drive progress through the power of computation and collaboration."
      ],
      "metadata": {
        "id": "ptJWqMYuC5NA"
      }
    }
  ]
}